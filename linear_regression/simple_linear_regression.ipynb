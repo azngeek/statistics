{
 "cells": [
  {
   "metadata": {},
   "cell_type": "markdown",
   "source": [
    "# Einfache lineare Regression: Einführung und Annahmen\n",
    "\n",
    "Die einfache lineare Regression ist eine der am häufigsten verwendeten statistischen Methoden, um die Beziehung zwischen zwei Variablen zu verstehen. Sie ermöglicht es, den Zusammenhang zwischen einer unabhängigen Variable (Prädiktor) und einer abhängigen Variable (Ziel) zu analysieren und zu modellieren. Das Ziel ist es, eine lineare Funktion zu bestimmen, die am besten zu den Daten passt, wodurch Vorhersagen erleichtert und Erkenntnisse über die Daten gewonnen werden können.\n",
    "\n",
    "## Welches Problem löst die lineare Regression?\n",
    "\n",
    "In vielen realen Szenarien möchte man Vorhersagen machen oder besser verstehen, wie zwei Variablen miteinander zusammenhängen. Die lineare Regression hilft dabei, eine Reihe von Fragen zu beantworten, wie zum Beispiel:\n",
    "\n",
    "1. **Vorhersagen treffen:**\n",
    "   Wie stark beeinflusst eine unabhängige Variable (z. B. Geschwindigkeit beim Autofahren) die abhängige Variable (z. B. Anzahl der Unfälle)?\n",
    "\n",
    "2. **Beziehung überprüfen:**\n",
    "   Besteht überhaupt ein Zusammenhang zwischen den Variablen? Gibt es einen positiven, negativen oder keinen Zusammenhang?\n",
    "\n",
    "3. **Quantifizierung des Einflusses:**\n",
    "   Wie groß ist die Veränderung in der abhängigen Variable, wenn sich die unabhängige Variable um eine Einheit verändert?\n",
    "\n",
    "4. **Optimierung von Entscheidungen:**\n",
    "   In Anwendungsbereichen wie Wirtschaft, Technik oder Medizin können durch die Regression besser fundierte Entscheidungen getroffen und Prozesse verbessert werden.\n",
    "\n",
    "Die einfache lineare Regression ist besonders nützlich, wenn schnelle Einsichten in Datensätze nötig sind oder erste Hypothesen aufgestellt werden sollen. Sie dient außerdem als Basis für fortgeschrittene Modellierungsmethoden wie Multiple Regression oder nichtlineare Modelle.\n",
    "\n",
    "---\n",
    "\n",
    "Im nächsten Schritt überprüfe\n",
    "\n"
   ],
   "id": "44bdbe16af6fe0c9"
  },
  {
   "metadata": {},
   "cell_type": "markdown",
   "source": [
    "# Die vier Hauptbedingungen für eine einfache lineare Regression\n",
    "\n",
    "1. **Linearität (Linearity)**: Es besteht eine lineare Beziehung zwischen den unabhängigen Variablen (Xi) und der abhängigen Variablen (Y).\n",
    "   **Beispiel**: Wenn sich die Geschwindigkeit eines Fahrzeugs erhöht, sollte sich die Anzahl der Unfälle proportional ändern. Dies bedeutet, dass die Datenpunkte im Streudiagramm einer geraden Linie folgen.\n",
    "\n",
    "2. **Normalverteilung (Normality)**: Die Fehler (Residuals) sind normal verteilt.\n",
    "   **Beispiel**: Wenn man die Abweichungen (Residuals) zwischen den beobachteten und vorhergesagten Werten betrachtet, sollten diese in einem Histogramm die Glockenkurve einer Normalverteilung darstellen. Dies hilft dabei zu garantieren, dass das Modell konsistente Schätzungen liefert.\n",
    "\n",
    "3. **Unabhängigkeit der Beobachtungen (Independent Observation)**: Jede Beobachtung im Datensatz ist voneinander unabhängig.\n",
    "   **Beispiel**: Die Anzahl der Unfälle in einem Bundesstaat sollte keinen Einfluss auf die Anzahl der Unfälle in einem anderen Bundesstaat haben. Wenn Abhängigkeiten bestehen, können diese die Ergebnisse verzerren.\n",
    "\n",
    "4. **Homoskedastizität (Homoscedasticity)**: Die Streuung der Fehler bleibt über alle Werte der unabhängigen Variablen konstant.\n",
    "   **Beispiel**: Wenn man die Residualwerte gegenüber den vorhergesagten Werten (Fitted Values) plottet, sollten die Fehler gleichmäßig verteilt sein und keine erkennbare Struktur (z. B. Trichterform) zeigen. Dies stellt sicher, dass die Modellvorhersagen gleichmäßig zuverlässig sind.\n",
    "\n",
    "---\n",
    "\n",
    "Wir überprüfen diese vier Annahmen anhand des vorliegenden Datensatzes."
   ],
   "id": "47692544c67df77a"
  },
  {
   "metadata": {},
   "cell_type": "code",
   "outputs": [],
   "execution_count": null,
   "source": [
    "# import packages\n",
    "import pandas as pd\n",
    "import seaborn as sns"
   ],
   "id": "35a05df55e66a97c"
  },
  {
   "metadata": {},
   "cell_type": "markdown",
   "source": [
    "Seaborn bietet ein großes Set an Datensätzen an, die man sich anschauen kann (https://medium.com/@Aqsaumar48/seaborn-6ceda1a3d14a). Wir wählen in dem Fall den Datensatz für Autounfälle, also car_crashes.csv\n",
    "\n",
    "Total: Total number of crashes.\n",
    "Speeding: Crashes involving speeding.\n",
    "Alcohol: Crashes involving alcohol.\n",
    "Not Distracted: Percentage of drivers not distracted.\n",
    "No Previous: Percentage of drivers with no previous crashes.\n",
    "Ins_premium: Average insurance premium in the state.\n",
    "Ins_losses: Total insurance losses in the state."
   ],
   "id": "45572234651d9ff4"
  },
  {
   "metadata": {},
   "cell_type": "code",
   "outputs": [],
   "execution_count": null,
   "source": [
    "data = sns.load_dataset(\"car_crashes\")\n",
    "data.head(n=10)"
   ],
   "id": "87a04d0069d99be8"
  },
  {
   "metadata": {},
   "cell_type": "markdown",
   "source": "Im Anschluss können wir prüfen, wie viele Einträge es gibt. Hier sind es 51 Zeilen und 8 Spalten.",
   "id": "ad096cbefee826a8"
  },
  {
   "metadata": {},
   "cell_type": "code",
   "outputs": [],
   "execution_count": null,
   "source": [
    "data.shape\n",
    "data.info()\n",
    "# data['speeding'].value_counts()"
   ],
   "id": "d03f7ac06a169762"
  },
  {
   "metadata": {},
   "cell_type": "markdown",
   "source": "Wichtig: Vor jeder Analyse prüfen, ob es Duplikate gibt",
   "id": "92e3e24409880c42"
  },
  {
   "metadata": {},
   "cell_type": "code",
   "outputs": [],
   "execution_count": null,
   "source": [
    "data.dropna()\n",
    "data.reset_index(inplace=True, drop=True)"
   ],
   "id": "f4060b3dcaf860f0"
  },
  {
   "metadata": {},
   "cell_type": "markdown",
   "source": [
    "# Explorative Datenanalyse\n",
    "\n",
    "Wir prüfen, ob es lineare Zusammenhänge zwischen unterschiedliche Variablen im Dataframe gibt. Hierzu erstellen wir ein Scatterplot. Seaborn bietet eine sehr hilfreiche Funktion, um alle relevanten Paare zu generieren.\n",
    "Ausghend von der Matrix können wir einige lineare Zusammenhänge erkennen.\n",
    "\n",
    "- alcohol + total\n",
    "- speeding + total"
   ],
   "id": "eda62bcdd671824f"
  },
  {
   "metadata": {},
   "cell_type": "code",
   "outputs": [],
   "execution_count": null,
   "source": "sns.pairplot(data)",
   "id": "b51d3182384542bb"
  },
  {
   "metadata": {},
   "cell_type": "markdown",
   "source": "Schauen wir uns mal speeding genauer an und prüfen, ob es Ausreißer gibt. Alles was mehr als 3 Standardabweichungen vom Mittelwert entfernt ist, wäre für uns ein Ausreißer. Das schaut aber gut aus.",
   "id": "57a6234d090b65ca"
  },
  {
   "metadata": {},
   "cell_type": "code",
   "outputs": [],
   "execution_count": null,
   "source": [
    "from scipy import stats\n",
    "import numpy as np\n",
    "import matplotlib.pyplot as plt\n",
    "\n",
    "\n",
    "data_speeding = data[\"speeding\"]\n",
    "\n",
    "z_scores = np.abs(stats.zscore(data_speeding))\n",
    "\n",
    "\n",
    "# Histogramm plotten\n",
    "plt.hist(z_scores, bins=10, edgecolor='black')\n",
    "plt.title(\"Histogramm der Z-Scores\")\n",
    "plt.xlabel(\"Z-Score\")\n",
    "plt.ylabel(\"Häufigkeit\")\n",
    "plt.axvline(3, color='red', linestyle='dashed', linewidth=1.5, label='Grenzwert (z=3)')\n",
    "plt.legend()\n",
    "plt.show()\n"
   ],
   "id": "91af95da1584ab66"
  },
  {
   "metadata": {},
   "cell_type": "markdown",
   "source": [
    "# Modell erstellen\n",
    "\n",
    "Wir wählen eine einfache lineare Regression mit OLS. Wir möchten die Anzahl an Unfälle (abhängig) zu der Geschwindigkeit (unabhängig) ermitteln."
   ],
   "id": "2a5ada488db3b08e"
  },
  {
   "metadata": {},
   "cell_type": "code",
   "outputs": [],
   "execution_count": null,
   "source": [
    "ols_data = data[[\"speeding\", \"total\"]]\n",
    "ols_formula = \"total ~ speeding\""
   ],
   "id": "af65179f19a8d0e4"
  },
  {
   "metadata": {},
   "cell_type": "markdown",
   "source": "Interessant an der Stelle ist schon der niedriger R-Wert",
   "id": "f39973cb7b88dc25"
  },
  {
   "metadata": {},
   "cell_type": "code",
   "outputs": [],
   "execution_count": null,
   "source": [
    "# Import ols function\n",
    "from statsmodels.formula.api import ols\n",
    "OLS = ols(formula=ols_formula, data = ols_data)\n",
    "model = OLS.fit()\n",
    "model.summary()"
   ],
   "id": "82a7a6db5aa99e83"
  },
  {
   "metadata": {},
   "cell_type": "code",
   "outputs": [],
   "execution_count": null,
   "source": "sns.regplot(x = \"speeding\", y = \"total\", data = ols_data)",
   "id": "88f31e25fbb64a93"
  },
  {
   "metadata": {},
   "cell_type": "code",
   "outputs": [],
   "execution_count": null,
   "source": [
    "X = ols_data[\"speeding\"]\n",
    "fitted_values = model.predict(X)\n",
    "fitted_values\n",
    "\n",
    "residuals = model.resid\n",
    "residuals\n",
    "\n",
    "import matplotlib.pyplot as plt\n",
    "fig = sns.histplot(residuals)\n",
    "fig.set_xlabel(\"Residual Value\")\n",
    "fig.set_title(\"Histogram of Residuals\")\n",
    "plt.show()"
   ],
   "id": "c149cd7d7d8f140a"
  },
  {
   "metadata": {},
   "cell_type": "code",
   "outputs": [],
   "execution_count": null,
   "source": [
    "import matplotlib.pyplot as plt\n",
    "import statsmodels.api as sm\n",
    "fig = sm.qqplot(model.resid, line = 's')\n",
    "plt.show()"
   ],
   "id": "d5702f8bd3fa6071"
  },
  {
   "metadata": {},
   "cell_type": "code",
   "outputs": [],
   "execution_count": null,
   "source": [
    "# Import matplotlib\n",
    "import matplotlib.pyplot as plt\n",
    "fig = sns.scatterplot(x=fitted_values, y=residuals)\n",
    "\n",
    "# Add reference line at residuals = 0\n",
    "fig.axhline(0)\n",
    "\n",
    "# Set x-axis and y-axis labels\n",
    "fig.set_xlabel(\"Fitted Values\")\n",
    "fig.set_ylabel(\"Residuals\")\n",
    "\n",
    "# Show the plot\n",
    "plt.show()"
   ],
   "id": "a0dec3ac0abe8c92"
  },
  {
   "metadata": {},
   "cell_type": "code",
   "outputs": [],
   "execution_count": null,
   "source": "",
   "id": "4b312f178813861a"
  },
  {
   "metadata": {},
   "cell_type": "code",
   "outputs": [],
   "execution_count": null,
   "source": [
    "from scipy.stats import shapiro\n",
    "from statsmodels.stats.stattools import durbin_watson\n",
    "import statsmodels.api as sm\n",
    "\n",
    "\n",
    "# 1. Linearität: Scatterplot zwischen unabhängiger und abhängiger Variablen\n",
    "sns.scatterplot(x=ols_data[\"speeding\"], y=ols_data[\"total\"])\n",
    "plt.plot(ols_data[\"speeding\"], fitted_values, color=\"red\", label=\"Regression Line\")\n",
    "plt.title(\"Linearitätsprüfung: Scatterplot mit Regressionslinie\")\n",
    "plt.xlabel(\"Speeding\")\n",
    "plt.ylabel(\"Total\")\n",
    "plt.legend()\n",
    "plt.show()\n",
    "\n",
    "# 2. Normalverteilung der Residuen: Shapiro-Wilk-Test und Histogramm\n",
    "shapiro_test = shapiro(residuals)\n",
    "print(f\"Shapiro-Wilk-Test p-Wert: {shapiro_test.pvalue}\")\n",
    "sns.histplot(residuals, kde=True, bins=10, edgecolor='black')\n",
    "plt.title(\"Histogramm der Residuen\")\n",
    "plt.xlabel(\"Residuals\")\n",
    "plt.show()\n",
    "\n",
    "# 3. Unabhängigkeit der Residuen: Durbin-Watson-Test zur Prüfung auf Autokorrelation\n",
    "dw_test = durbin_watson(residuals)\n",
    "print(f\"Durbin-Watson-Statistik: {dw_test}\")\n",
    "\n",
    "# 4. Homoskedastizität: Streudiagramm der Residuen vs. vorhergesagte Werte\n",
    "sns.scatterplot(x=fitted_values, y=residuals)\n",
    "plt.axhline(0, color=\"red\", linestyle=\"--\")\n",
    "plt.title(\"Homoskedastizitätsprüfung: Residuen vs Fitted Values\")\n",
    "plt.xlabel(\"Fitted Values\")\n",
    "plt.ylabel(\"Residuals\")\n",
    "plt.show()"
   ],
   "id": "4466808c05b973d2"
  },
  {
   "metadata": {},
   "cell_type": "markdown",
   "source": "Interpretation der Ergebnisse erfolgt basierend auf den Tests und Plots.\n",
   "id": "a6f575fca69bfdc5"
  },
  {
   "metadata": {},
   "cell_type": "markdown",
   "source": [
    "# Zusammenfassung\n",
    "\n",
    "Die einfache lineare Regression erlaubt:\n",
    "1. Das Verständnis der linearen Beziehung zwischen zwei Variablen.\n",
    "2. Die Schätzung von Vorhersagen.\n",
    "\n",
    "Die Evaluation der Hauptbedingungen sichert die Qualität der Ergebnisse."
   ],
   "id": "f72dbfeb78e9af0b"
  }
 ],
 "metadata": {
  "kernelspec": {
   "name": "python3",
   "language": "python",
   "display_name": "Python 3 (ipykernel)"
  }
 },
 "nbformat": 5,
 "nbformat_minor": 9
}
